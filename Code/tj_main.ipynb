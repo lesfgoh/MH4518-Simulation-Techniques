{
 "cells": [
  {
   "cell_type": "code",
   "execution_count": 139,
   "id": "8170db95-56ab-4077-9d8a-e12892032600",
   "metadata": {},
   "outputs": [],
   "source": [
    "import pandas as pd\n",
    "import matplotlib.pyplot as plt\n",
    "import datetime as DT\n",
    "import yfinance as yf\n",
    "import numpy as np \n",
    "import scipy.stats as stats\n",
    "from sklearn.linear_model import LinearRegression\n",
    "import pandas_market_calendars as mcal\n",
    "import datetime\n",
    "#from mpl_toolkits.mplot3d import axes3d\n",
    "import scipy as sp\n",
    "import scipy.interpolate\n",
    "from scipy.stats import norm\n",
    "import math\n",
    "\n",
    "import numpy as np\n",
    "import pandas as pd\n",
    "from scipy.stats import t, norm\n",
    "from pycopula.copula import GaussianCopula"
   ]
  },
  {
   "cell_type": "code",
   "execution_count": 49,
   "id": "7df7eb68-28fb-4de8-881d-83d7ba8990dd",
   "metadata": {},
   "outputs": [],
   "source": [
    "def load_data(file_path):\n",
    "    data = pd.read_csv(file_path)\n",
    "    data.index = pd.to_datetime(data['Date'], format='%m/%d/%Y')\n",
    "    data['Price'] = data['Price'].str.replace(',', '').astype(float)\n",
    "    data['Log Return'] = np.log(data['Price'] / data['Price'].shift(1))\n",
    "    data = data.dropna(subset=['Log Return'])\n",
    "    return data\n",
    "\n",
    "file_path = \"../Data CSV/SMI Historical Data.csv\"\n",
    "smi = load_data(file_path)\n",
    "\n",
    "file_path = \"../Data CSV/S&P 500 Historical Data (1).csv\"\n",
    "sp500 = load_data(file_path)\n",
    "\n",
    "file_path = \"../Data CSV/Euro Stoxx 50 Historical Data.csv\"\n",
    "stoxx50 = load_data(file_path)"
   ]
  },
  {
   "cell_type": "code",
   "execution_count": 122,
   "id": "edca593e-b377-4c53-9d78-e7b6d1000115",
   "metadata": {},
   "outputs": [
    {
     "name": "stdout",
     "output_type": "stream",
     "text": [
      "Data Loss: 1.0\n"
     ]
    }
   ],
   "source": [
    "common_dates = list(set(stoxx50.index).intersection(set(smi.index).intersection(set(sp500.index))))\n",
    "## losing data on dates, simulation also assuming common dates, losing about 14% data\n",
    "print(\"Data Loss:\", (3*len(common_dates))/(len(stoxx50)+len(smi)+len(sp500)))\n",
    "\n",
    "def load_data(file_path):\n",
    "    data = pd.read_csv(file_path)\n",
    "    data.index = pd.to_datetime(data['Date'], format='%m/%d/%Y')\n",
    "    data = data[data.index.isin(common_dates)]\n",
    "    data['Price'] = data['Price'].str.replace(',', '').astype(float)\n",
    "    data['Log Return'] = np.log(data['Price'] / data['Price'].shift(1))\n",
    "    data.drop(columns=[\"Change %\"], errors = \"Ignore\", inplace = True)\n",
    "    data = data.dropna(subset=['Log Return'])\n",
    "    return data\n",
    "\n",
    "file_path = \"../Data CSV/SMI Historical Data.csv\"\n",
    "smi = load_data(file_path)\n",
    "\n",
    "file_path = \"../Data CSV/S&P 500 Historical Data (1).csv\"\n",
    "sp500 = load_data(file_path)\n",
    "\n",
    "file_path = \"../Data CSV/Euro Stoxx 50 Historical Data.csv\"\n",
    "stoxx50 = load_data(file_path)\n",
    "\n",
    "returns = pd.DataFrame({\n",
    "    'SMI': smi['Log Return'],\n",
    "    'STOXX50': stoxx50['Log Return'],\n",
    "    'SP500': sp500['Log Return']\n",
    "}).dropna()\n",
    "\n",
    "chf = pd.read_csv(\"../Data CSV/USD_CHF Historical Data.csv\")\n",
    "chf.index = pd.DatetimeIndex(chf[\"Date\"])\n",
    "eur = pd.read_csv(\"../Data CSV/USD_EUR Historical Data.csv\")\n",
    "eur.index = pd.DatetimeIndex(eur[\"Date\"])"
   ]
  },
  {
   "cell_type": "markdown",
   "id": "7cb1f9dc-9f3f-469a-b562-d4281da5b1d3",
   "metadata": {},
   "source": [
    "## Simulation using Student T"
   ]
  },
  {
   "cell_type": "code",
   "execution_count": 163,
   "id": "c43788ef-6dcd-4f2e-b3e0-a71477388794",
   "metadata": {},
   "outputs": [
    {
     "data": {
      "text/html": [
       "<div>\n",
       "<style scoped>\n",
       "    .dataframe tbody tr th:only-of-type {\n",
       "        vertical-align: middle;\n",
       "    }\n",
       "\n",
       "    .dataframe tbody tr th {\n",
       "        vertical-align: top;\n",
       "    }\n",
       "\n",
       "    .dataframe thead th {\n",
       "        text-align: right;\n",
       "    }\n",
       "</style>\n",
       "<table border=\"1\" class=\"dataframe\">\n",
       "  <thead>\n",
       "    <tr style=\"text-align: right;\">\n",
       "      <th></th>\n",
       "      <th>SMI</th>\n",
       "      <th>STOXX50</th>\n",
       "      <th>SP500</th>\n",
       "    </tr>\n",
       "  </thead>\n",
       "  <tbody>\n",
       "    <tr>\n",
       "      <th>SMI</th>\n",
       "      <td>1.000000</td>\n",
       "      <td>0.792476</td>\n",
       "      <td>0.500997</td>\n",
       "    </tr>\n",
       "    <tr>\n",
       "      <th>STOXX50</th>\n",
       "      <td>0.792476</td>\n",
       "      <td>1.000000</td>\n",
       "      <td>0.592506</td>\n",
       "    </tr>\n",
       "    <tr>\n",
       "      <th>SP500</th>\n",
       "      <td>0.500997</td>\n",
       "      <td>0.592506</td>\n",
       "      <td>1.000000</td>\n",
       "    </tr>\n",
       "  </tbody>\n",
       "</table>\n",
       "</div>"
      ],
      "text/plain": [
       "              SMI   STOXX50     SP500\n",
       "SMI      1.000000  0.792476  0.500997\n",
       "STOXX50  0.792476  1.000000  0.592506\n",
       "SP500    0.500997  0.592506  1.000000"
      ]
     },
     "execution_count": 163,
     "metadata": {},
     "output_type": "execute_result"
    }
   ],
   "source": [
    "corr_matrix"
   ]
  },
  {
   "cell_type": "code",
   "execution_count": 140,
   "id": "06d6b2b8-ca52-455c-85c4-b648c88d4d18",
   "metadata": {},
   "outputs": [],
   "source": [
    "params_smi = t.fit(returns['SMI'])\n",
    "params_stoxx50 = t.fit(returns['STOXX50'])\n",
    "params_sp500 = t.fit(returns['SP500'])\n",
    "\n",
    "corr_matrix = returns.corr()\n",
    "chol_matrix = np.linalg.cholesky(corr_matrix)\n"
   ]
  },
  {
   "cell_type": "code",
   "execution_count": 141,
   "id": "f0946692-c26a-4b0c-84be-bac24f824098",
   "metadata": {},
   "outputs": [],
   "source": [
    "n_simulations = 1\n",
    "n_timesteps = 30\n",
    "\n",
    "z = np.random.normal(size=(n_timesteps, n_simulations, 3))\n",
    "correlated_z = np.matmul(z, chol_matrix.T)\n",
    "u = norm.cdf(correlated_z)\n",
    "\n",
    "sim_smi = t.ppf(u[:, :, 0], *params_smi)\n",
    "sim_stoxx50 = t.ppf(u[:, :, 1], *params_stoxx50)\n",
    "sim_sp500 = t.ppf(u[:, :, 2], *params_sp500)\n",
    "\n",
    "initial_prices = {\n",
    "    'SMI': smi['Price'].iloc[-1],\n",
    "    'STOXX50': stoxx50['Price'].iloc[-1],\n",
    "    'SP500': sp500['Price'].iloc[-1]\n",
    "}\n",
    "\n",
    "price_paths_smi = initial_prices['SMI'] * np.exp(np.cumsum(sim_smi, axis=0))\n",
    "price_paths_stoxx50 = initial_prices['STOXX50'] * np.exp(np.cumsum(sim_stoxx50, axis=0))\n",
    "price_paths_sp500 = initial_prices['SP500'] * np.exp(np.cumsum(sim_sp500, axis=0))\n",
    "\n",
    "price_paths = {\n",
    "    'SMI': price_paths_smi,\n",
    "    'STOXX50': price_paths_stoxx50,\n",
    "    'SP500': price_paths_sp500\n",
    "}"
   ]
  },
  {
   "cell_type": "markdown",
   "id": "4baa5034-b7bb-4183-b2c3-3d52f81f2322",
   "metadata": {},
   "source": [
    "## Simulation using GBM"
   ]
  },
  {
   "cell_type": "code",
   "execution_count": 161,
   "id": "28939021-bb4c-4ce5-8bab-9933b1f67f6a",
   "metadata": {},
   "outputs": [
    {
     "name": "stdout",
     "output_type": "stream",
     "text": [
      "[-5.94142771e-04  8.02183947e-05  6.90049252e-04]\n",
      "[3.69654237e-05 3.61483638e-04 1.09586271e-03]\n",
      "[-0.00065916  0.00024911  0.0004732 ]\n",
      "[-3.20783003e-04 -3.46071178e-04 -7.89880507e-05]\n",
      "[-2.52901155e-05 -6.56030957e-04 -1.38059903e-04]\n",
      "[ 0.00035395 -0.00050881  0.00098494]\n",
      "[ 9.19378167e-04 -3.17370872e-04 -5.87792041e-05]\n",
      "[ 5.27380824e-04 -3.97952468e-04  3.30233953e-05]\n",
      "[ 0.00125934 -0.00022371  0.00107394]\n",
      "[0.00033274 0.00142454 0.00015465]\n",
      "[-1.06343576e-06  5.14033904e-04  4.69470126e-04]\n",
      "[ 0.00015246 -0.00021539  0.00022589]\n"
     ]
    }
   ],
   "source": [
    "dt = 1 / 252  \n",
    "mu = {}\n",
    "sigma = {}\n",
    "for index in ['SMI', 'STOXX50', 'SP500']:\n",
    "    mean_return = returns[index].mean()\n",
    "    variance = returns[index].var()\n",
    "    mu[index] = mean_return\n",
    "    sigma[index] = np.sqrt(variance)\n",
    "\n",
    "corr_matrix = returns.corr()\n",
    "\n",
    "n_simulations = 3\n",
    "n_timesteps = 4\n",
    "\n",
    "Z = np.random.normal(size=(n_timesteps, n_simulations, 3))\n",
    "chol_matrix = np.linalg.cholesky(corr_matrix)\n",
    "\n",
    "Z_flat = Z.reshape(-1, 3)\n",
    "Z_correlated_flat = Z_flat @ chol_matrix.T\n",
    "Z_correlated = Z_correlated_flat.reshape(n_timesteps, n_simulations, 3)\n",
    "\n",
    "initial_prices = {\n",
    "    'SMI': smi['Price'].iloc[-1],\n",
    "    'STOXX50': stoxx50['Price'].iloc[-1],\n",
    "    'SP500': sp500['Price'].iloc[-1]\n",
    "}\n",
    "\n",
    "price_paths = {\n",
    "    'SMI': np.zeros((n_timesteps + 1, n_simulations)),\n",
    "    'STOXX50': np.zeros((n_timesteps + 1, n_simulations)),\n",
    "    'SP500': np.zeros((n_timesteps + 1, n_simulations))\n",
    "}\n",
    "\n",
    "for index in ['SMI', 'STOXX50', 'SP500']:\n",
    "    price_paths[index][0] = initial_prices[index]\n",
    "\n",
    "for i in range(1, n_timesteps + 1):\n",
    "    for idx, index in enumerate(['SMI', 'STOXX50', 'SP500']):\n",
    "        drift_term = (mu[index] - 0.5 * sigma[index] ** 2) * dt\n",
    "        diffusion_term = sigma[index] * np.sqrt(dt) * Z_correlated[i - 1, :, idx]\n",
    "        price_paths[index][i] = price_paths[index][i - 1] * np.exp(drift_term + diffusion_term)\n",
    "\n",
    "for index in ['SMI', 'STOXX50', 'SP500']:\n",
    "    price_paths[index]= price_paths[index].transpose()"
   ]
  },
  {
   "cell_type": "code",
   "execution_count": null,
   "id": "fa8ee664-2eda-43fa-a979-2a12844bbc29",
   "metadata": {},
   "outputs": [],
   "source": []
  },
  {
   "cell_type": "code",
   "execution_count": null,
   "id": "adc1c116-5857-4e56-b9e1-bcc908d8c7a5",
   "metadata": {},
   "outputs": [],
   "source": []
  }
 ],
 "metadata": {
  "kernelspec": {
   "display_name": "Python 3 (ipykernel)",
   "language": "python",
   "name": "python3"
  },
  "language_info": {
   "codemirror_mode": {
    "name": "ipython",
    "version": 3
   },
   "file_extension": ".py",
   "mimetype": "text/x-python",
   "name": "python",
   "nbconvert_exporter": "python",
   "pygments_lexer": "ipython3",
   "version": "3.13.0"
  }
 },
 "nbformat": 4,
 "nbformat_minor": 5
}
