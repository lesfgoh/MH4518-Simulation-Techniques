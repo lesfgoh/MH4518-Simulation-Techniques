{
 "cells": [
  {
   "cell_type": "code",
   "execution_count": null,
   "id": "8170db95-56ab-4077-9d8a-e12892032600",
   "metadata": {
    "id": "8170db95-56ab-4077-9d8a-e12892032600"
   },
   "outputs": [
    {
     "ename": "",
     "evalue": "",
     "output_type": "error",
     "traceback": [
      "\u001b[1;31mThe kernel failed to start as the Python Environment 'Python 3.12.4' is no longer available. Consider selecting another kernel or refreshing the list of Python Environments."
     ]
    }
   ],
   "source": [
    "import pandas as pd\n",
    "import matplotlib.pyplot as plt\n",
    "import datetime as DT\n",
    "import yfinance as yf\n",
    "import numpy as np\n",
    "import scipy.stats as stats\n",
    "from sklearn.linear_model import LinearRegression\n",
    "import pandas_market_calendars as mcal\n",
    "import datetime\n",
    "#from mpl_toolkits.mplot3d import axes3d\n",
    "import scipy as sp\n",
    "import scipy.interpolate\n",
    "from scipy.stats import norm\n",
    "import math\n",
    "\n",
    "import numpy as np\n",
    "import pandas as pd\n",
    "from scipy.stats import t, norm\n",
    "from pycopula.copula import GaussianCopula"
   ]
  },
  {
   "cell_type": "code",
   "execution_count": null,
   "id": "7df7eb68-28fb-4de8-881d-83d7ba8990dd",
   "metadata": {
    "id": "7df7eb68-28fb-4de8-881d-83d7ba8990dd"
   },
   "outputs": [],
   "source": [
    "def load_data(file_path):\n",
    "    data = pd.read_csv(file_path)\n",
    "    data.index = pd.to_datetime(data['Date'], format='%m/%d/%Y')\n",
    "    data['Price'] = data['Price'].str.replace(',', '').astype(float)\n",
    "    data['Log Return'] = np.log(data['Price'] / data['Price'].shift(1))\n",
    "    data = data.dropna(subset=['Log Return'])\n",
    "    return data\n",
    "\n",
    "file_path = \"../Data CSV/SMI Historical Data.csv\"\n",
    "smi = load_data(file_path)\n",
    "\n",
    "file_path = \"../Data CSV/S&P 500 Historical Data.csv\"\n",
    "sp500 = load_data(file_path)\n",
    "\n",
    "file_path = \"../Data CSV/Euro Stoxx 50 Historical Data.csv\"\n",
    "stoxx50 = load_data(file_path)"
   ]
  },
  {
   "cell_type": "code",
   "execution_count": null,
   "id": "edca593e-b377-4c53-9d78-e7b6d1000115",
   "metadata": {
    "colab": {
     "base_uri": "https://localhost:8080/"
    },
    "id": "edca593e-b377-4c53-9d78-e7b6d1000115",
    "outputId": "1053c489-ec96-486f-b692-6d31cbdecf7b"
   },
   "outputs": [],
   "source": [
    "common_dates = list(set(stoxx50.index).intersection(set(smi.index).intersection(set(sp500.index))))\n",
    "## losing data on dates, simulation also assuming common dates, losing about 14% data\n",
    "print(\"Data Loss:\", (3*len(common_dates))/(len(stoxx50)+len(smi)+len(sp500)))\n",
    "\n",
    "def load_data(file_path):\n",
    "    data = pd.read_csv(file_path)\n",
    "    data.index = pd.to_datetime(data['Date'], format='%m/%d/%Y')\n",
    "    data = data[data.index.isin(common_dates)]\n",
    "    data['Price'] = data['Price'].str.replace(',', '').astype(float)\n",
    "    data['Log Return'] = np.log(data['Price'] / data['Price'].shift(1))\n",
    "    data.drop(columns=[\"Change %\"], errors = \"Ignore\", inplace = True)\n",
    "    data = data.dropna(subset=['Log Return'])\n",
    "    return data\n",
    "\n",
    "file_path = \"../Data CSV/SMI Historical Data.csv\"\n",
    "smi = load_data(file_path)\n",
    "\n",
    "file_path = \"../Data CSV/S&P 500 Historical Data.csv\"\n",
    "sp500 = load_data(file_path)\n",
    "\n",
    "file_path = \"../Data CSV/Euro Stoxx 50 Historical Data.csv\"\n",
    "stoxx50 = load_data(file_path)\n",
    "\n",
    "returns = pd.DataFrame({\n",
    "    'SMI': smi['Log Return'],\n",
    "    'STOXX50': stoxx50['Log Return'],\n",
    "    'SP500': sp500['Log Return']\n",
    "}).dropna()\n",
    "\n",
    "chf = pd.read_csv(\"../Data CSV/USD_CHF Historical Data.csv\")\n",
    "chf.index = pd.DatetimeIndex(chf[\"Date\"])\n",
    "eur = pd.read_csv(\"../Data CSV/USD_EUR Historical Data.csv\")\n",
    "eur.index = pd.DatetimeIndex(eur[\"Date\"])"
   ]
  },
  {
   "cell_type": "markdown",
   "id": "7cb1f9dc-9f3f-469a-b562-d4281da5b1d3",
   "metadata": {
    "id": "7cb1f9dc-9f3f-469a-b562-d4281da5b1d3"
   },
   "source": [
    "## Simulation using Student T"
   ]
  },
  {
   "cell_type": "code",
   "execution_count": null,
   "id": "06d6b2b8-ca52-455c-85c4-b648c88d4d18",
   "metadata": {
    "id": "06d6b2b8-ca52-455c-85c4-b648c88d4d18"
   },
   "outputs": [],
   "source": [
    "params_smi = t.fit(returns['SMI'])\n",
    "params_stoxx50 = t.fit(returns['STOXX50'])\n",
    "params_sp500 = t.fit(returns['SP500'])\n",
    "\n",
    "corr_matrix = returns.corr()\n",
    "chol_matrix = np.linalg.cholesky(corr_matrix)"
   ]
  },
  {
   "cell_type": "code",
   "execution_count": null,
   "id": "f0946692-c26a-4b0c-84be-bac24f824098",
   "metadata": {
    "id": "f0946692-c26a-4b0c-84be-bac24f824098"
   },
   "outputs": [],
   "source": [
    "n_simulations = 1\n",
    "n_timesteps = 30\n",
    "\n",
    "z = np.random.normal(size=(n_timesteps, n_simulations, 3))\n",
    "correlated_z = np.matmul(z, chol_matrix.T)\n",
    "u = norm.cdf(correlated_z)\n",
    "\n",
    "sim_smi = t.ppf(u[:, :, 0], *params_smi)\n",
    "sim_stoxx50 = t.ppf(u[:, :, 1], *params_stoxx50)\n",
    "sim_sp500 = t.ppf(u[:, :, 2], *params_sp500)\n",
    "\n",
    "initial_prices = {\n",
    "    'SMI': smi['Price'].iloc[-1],\n",
    "    'STOXX50': stoxx50['Price'].iloc[-1],\n",
    "    'SP500': sp500['Price'].iloc[-1]\n",
    "}\n",
    "\n",
    "price_paths_smi = initial_prices['SMI'] * np.exp(np.cumsum(sim_smi, axis=0))\n",
    "price_paths_stoxx50 = initial_prices['STOXX50'] * np.exp(np.cumsum(sim_stoxx50, axis=0))\n",
    "price_paths_sp500 = initial_prices['SP500'] * np.exp(np.cumsum(sim_sp500, axis=0))\n",
    "\n",
    "price_paths = {\n",
    "    'SMI': price_paths_smi,\n",
    "    'STOXX50': price_paths_stoxx50,\n",
    "    'SP500': price_paths_sp500\n",
    "}"
   ]
  },
  {
   "cell_type": "code",
   "execution_count": null,
   "id": "qS5XxLeEB5-3",
   "metadata": {
    "colab": {
     "base_uri": "https://localhost:8080/",
     "height": 143
    },
    "id": "qS5XxLeEB5-3",
    "outputId": "8071920b-97ad-494c-a016-0d23cbed7d94"
   },
   "outputs": [],
   "source": [
    "corr_matrix"
   ]
  },
  {
   "cell_type": "markdown",
   "id": "4baa5034-b7bb-4183-b2c3-3d52f81f2322",
   "metadata": {
    "id": "4baa5034-b7bb-4183-b2c3-3d52f81f2322"
   },
   "source": [
    "## Simulation using GBM with the CIR model"
   ]
  },
  {
   "cell_type": "markdown",
   "id": "GIXEDxfjLWf0",
   "metadata": {
    "id": "GIXEDxfjLWf0"
   },
   "source": [
    "Using an MLE to estimate paramters for the CIR model"
   ]
  },
  {
   "cell_type": "code",
   "execution_count": null,
   "id": "bXDM-b_GKAJE",
   "metadata": {
    "id": "bXDM-b_GKAJE"
   },
   "outputs": [],
   "source": [
    "from scipy.optimize import minimize\n",
    "\n",
    "# Load data\n",
    "interest_rates = pd.read_excel(\"../Data CSV/US Interest Rates.xlsx\")\n",
    "interest_rates.columns = interest_rates.columns.str.strip()\n",
    "interest_rates = interest_rates.dropna(subset=[\"United States Treasury 10-YR Rates\"])\n",
    "interest_rates[\"United States Treasury 10-YR Rates\"] = pd.to_numeric(\n",
    "    interest_rates[\"United States Treasury 10-YR Rates\"], errors=\"coerce\"\n",
    ")\n",
    "r = interest_rates[\"United States Treasury 10-YR Rates\"].dropna().values\n",
    "\n",
    "dt = 1 / 252  # Time step\n",
    "\n",
    "# log-likelihood function assumes:\n",
    "# dr ~ N (mean_increment, variance_increment)\n",
    "\n",
    "# Define negative log-likelihood function\n",
    "def negative_log_likelihood(params, r, dt):\n",
    "    kappa, theta, sigma_r = params\n",
    "    if kappa <= 0 or sigma_r <= 0:\n",
    "        return np.inf\n",
    "    log_likelihood = 0\n",
    "    for t in range(len(r) - 1):\n",
    "        dr = r[t + 1] - r[t]\n",
    "        mean_increment = kappa * (theta - r[t]) * dt\n",
    "        variance_increment = sigma_r**2 * r[t] * dt\n",
    "        if variance_increment <= 0:\n",
    "            return np.inf\n",
    "        likelihood_t = -0.5 * np.log(2 * np.pi * variance_increment) - 0.5 * (\n",
    "            (dr - mean_increment) ** 2 / variance_increment\n",
    "        )\n",
    "        log_likelihood += likelihood_t\n",
    "    return -log_likelihood\n",
    "\n",
    "# Initial guesses and bounds\n",
    "initial_vals = [0.1, np.mean(r), np.std(r)]\n",
    "bounds = ((1e-5, None), (None, None), (1e-5, None))\n",
    "\n",
    "# Optimization\n",
    "result = minimize(\n",
    "    negative_log_likelihood, initial_vals, args=(r, dt), bounds=bounds, method=\"L-BFGS-B\"\n",
    ")\n",
    "\n",
    "kappa, theta, sigma_r = result.x\n",
    "print(\"Fitted Parameters:\")\n",
    "print(\"kappa:\", kappa)\n",
    "print(\"theta:\", theta)\n",
    "print(\"sigma_r:\", sigma_r)"
   ]
  },
  {
   "cell_type": "code",
   "execution_count": null,
   "id": "28939021-bb4c-4ce5-8bab-9933b1f67f6a",
   "metadata": {
    "colab": {
     "base_uri": "https://localhost:8080/",
     "height": 1000
    },
    "id": "28939021-bb4c-4ce5-8bab-9933b1f67f6a",
    "outputId": "afacebd8-8b05-4900-e180-5033741344c3"
   },
   "outputs": [
    {
     "ename": "",
     "evalue": "",
     "output_type": "error",
     "traceback": [
      "\u001b[1;31mThe kernel failed to start as the Python Environment 'Python 3.12.4' is no longer available. Consider selecting another kernel or refreshing the list of Python Environments."
     ]
    }
   ],
   "source": [
    "n_simulations = 3\n",
    "n_timesteps = 4\n",
    "\n",
    "mu = {}\n",
    "sigma = {}\n",
    "for index in ['SMI', 'STOXX50', 'SP500']:\n",
    "    mean_return = returns[index].mean()\n",
    "    variance = returns[index].var()\n",
    "    mu[index] = mean_return\n",
    "    sigma[index] = np.sqrt(variance)\n",
    "\n",
    "corr_matrix = returns.corr()\n",
    "chol_matrix = np.linalg.cholesky(corr_matrix)\n",
    "\n",
    "Z = np.random.normal(size=(n_timesteps, n_simulations, 3))\n",
    "Z_flat = Z.reshape(-1, 3)\n",
    "Z_correlated_flat = Z_flat @ chol_matrix.T\n",
    "Z_correlated = Z_correlated_flat.reshape(n_timesteps, n_simulations, 3)\n",
    "\n",
    "initial_prices = {\n",
    "    'SMI': smi['Price'].iloc[-1],\n",
    "    'STOXX50': stoxx50['Price'].iloc[-1],\n",
    "    'SP500': sp500['Price'].iloc[-1]\n",
    "}\n",
    "\n",
    "price_paths = {index: np.zeros((n_timesteps + 1, n_simulations)) for index in ['SMI', 'STOXX50', 'SP500']}\n",
    "for index in ['SMI', 'STOXX50', 'SP500']:\n",
    "    price_paths[index][0] = initial_prices[index]\n",
    "\n",
    "initial_rate = r[-1]\n",
    "r_paths = np.zeros((n_timesteps + 1, n_simulations))\n",
    "r_paths[0, :] = initial_rate\n",
    "print(r_paths)\n",
    "for i in range(1, n_timesteps + 1):\n",
    "    Z_r = np.random.normal(size=n_simulations)\n",
    "    r_t_prev = r_paths[i - 1]\n",
    "    dr = kappa * (theta - r_t_prev) * dt + sigma_r * np.sqrt(r_t_prev * dt) * Z_r\n",
    "    print(r_t_prev)\n",
    "    r_paths[i] = np.maximum(r_t_prev + dr, 0)\n",
    "\n",
    "    for idx, index in enumerate(['SMI', 'STOXX50', 'SP500']):\n",
    "        drift_term = (r_paths[i] - 0.5 * sigma[index] ** 2) * dt\n",
    "        diffusion_term = sigma[index] * np.sqrt(dt) * Z_correlated[i - 1, :, idx]\n",
    "        price_paths[index][i] = price_paths[index][i - 1] * np.exp(drift_term + diffusion_term)\n",
    "\n",
    "for index in ['SMI', 'STOXX50', 'SP500']:\n",
    "    price_paths[index] = price_paths[index].transpose()\n",
    "\n",
    "plt.figure(figsize=(10, 6))\n",
    "for i in range(n_simulations):\n",
    "    plt.plot(range(n_timesteps + 1), r_paths[:, i], lw=0.8)\n",
    "plt.xlabel(\"Time (Days)\")\n",
    "plt.ylabel(\"Interest Rate (r)\")\n",
    "plt.title(\"Simulated CIR Paths for Interest Rate\")\n",
    "plt.show()\n",
    "\n",
    "plt.figure(figsize=(10, 6))\n",
    "for i in range(n_simulations):\n",
    "    plt.plot(range(n_timesteps + 1), price_paths['SMI'][i, :], lw=0.8)\n",
    "plt.xlabel(\"Time (Days)\")\n",
    "plt.ylabel(\"SMI Price\")\n",
    "plt.title(\"Simulated GBM Paths with Stochastic Interest Rate\")\n",
    "plt.show()"
   ]
  },
  {
   "cell_type": "code",
   "execution_count": null,
   "id": "adc1c116-5857-4e56-b9e1-bcc908d8c7a5",
   "metadata": {
    "id": "adc1c116-5857-4e56-b9e1-bcc908d8c7a5"
   },
   "outputs": [],
   "source": [
    "\n",
    "\n"
   ]
  }
 ],
 "metadata": {
  "colab": {
   "provenance": []
  },
  "kernelspec": {
   "display_name": "Python 3",
   "language": "python",
   "name": "python3"
  },
  "language_info": {
   "codemirror_mode": {
    "name": "ipython",
    "version": 3
   },
   "file_extension": ".py",
   "mimetype": "text/x-python",
   "name": "python",
   "nbconvert_exporter": "python",
   "pygments_lexer": "ipython3",
   "version": "3.12.4"
  }
 },
 "nbformat": 4,
 "nbformat_minor": 5
}
